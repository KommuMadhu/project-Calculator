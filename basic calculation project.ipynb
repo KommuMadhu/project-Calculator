{
 "cells": [
  {
   "cell_type": "code",
   "execution_count": 9,
   "id": "f672a0b7",
   "metadata": {},
   "outputs": [
    {
     "data": {
      "text/plain": [
       "'142.250.192.68'"
      ]
     },
     "execution_count": 9,
     "metadata": {},
     "output_type": "execute_result"
    }
   ],
   "source": [
    "#web site ip address\n",
    "import socket \n",
    "#add the website name\n",
    "ip = socket.gethostbyname('www.google.com')\n",
    "ip"
   ]
  },
  {
   "cell_type": "code",
   "execution_count": 1,
   "id": "07d31857",
   "metadata": {},
   "outputs": [],
   "source": [
    "from turtle import *\n",
    "color ('red')\n",
    "begin_fill()\n",
    "pensize(3)\n",
    "left(5)\n",
    "forward(133)\n",
    "circle (50,200)\n",
    "right (140)\n",
    "circle (50,200)\n",
    "forward(133)\n",
    "end_fill()"
   ]
  },
  {
   "cell_type": "code",
   "execution_count": null,
   "id": "ed82f8c6",
   "metadata": {
    "scrolled": true
   },
   "outputs": [
    {
     "name": "stdout",
     "output_type": "stream",
     "text": [
      "__________PYTHON CALUCLATOR_________\n",
      "Calculator\n",
      "1.Add\n",
      "2.Multiply\n",
      "3.Divide\n",
      "select above =1\n",
      "+55\n",
      "44\n",
      "= 99\n"
     ]
    }
   ],
   "source": [
    "\n",
    "print('__________PYTHON CALUCLATOR_________')\n",
    "\n",
    "while True:\n",
    "  print(\"Calculator\")   \n",
    "  print(\"1.Add\")\n",
    "  print(\"2.Multiply\")\n",
    "  print(\"3. division \")\n",
    "\n",
    "# user decision \n",
    "  c=int(input('select above ='))\n",
    "\n",
    "#user press 1 goes with addition \n",
    "  if c==1:\n",
    "    a=int(input('+'))\n",
    "    b=int(input(''))\n",
    "    c=a+b\n",
    "    print('=',c)\n",
    "    \n",
    "# user press 2 goes with mmultiplication \n",
    "  elif c==2:\n",
    "    a=int(input('*'))\n",
    "    b=int(input(''))\n",
    "    c=a*b\n",
    "    print('=',c)\n",
    "\n",
    "# user press 3 goes with division \n",
    "  elif c==3:\n",
    "    a=int(input('/'))\n",
    "    b=int(input(''))\n",
    "    c=a/b\n",
    "    print('=',c)\n",
    "\n",
    "# user want to repeat goes \n",
    "\n",
    "  Another_try = input(\"Again Calculation ?(Yes/No) | \")\n",
    "  if Another_try == \"N\" or Another_try == \"n\":\n",
    "        break\n",
    "  elif Another_try == \"Y\" or Another_try == \"y\":\n",
    "      continue\n",
    "else :\n",
    "        print('invalid')\n",
    "\n",
    "\n",
    "\n",
    "\n",
    "\n",
    "\n",
    "   "
   ]
  },
  {
   "cell_type": "code",
   "execution_count": null,
   "id": "8f556779",
   "metadata": {},
   "outputs": [],
   "source": []
  }
 ],
 "metadata": {
  "kernelspec": {
   "display_name": "Python 3 (ipykernel)",
   "language": "python",
   "name": "python3"
  },
  "language_info": {
   "codemirror_mode": {
    "name": "ipython",
    "version": 3
   },
   "file_extension": ".py",
   "mimetype": "text/x-python",
   "name": "python",
   "nbconvert_exporter": "python",
   "pygments_lexer": "ipython3",
   "version": "3.9.13"
  }
 },
 "nbformat": 4,
 "nbformat_minor": 5
}
